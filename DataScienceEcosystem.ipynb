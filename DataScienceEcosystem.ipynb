{
 "cells": [
  {
   "cell_type": "markdown",
   "id": "33fc5181-785f-49fb-881a-c6521fe54861",
   "metadata": {},
   "source": [
    "# Data Science Tools and Ecosystem\n"
   ]
  },
  {
   "cell_type": "markdown",
   "id": "4951331c-9426-4448-92ff-d25ac6391e35",
   "metadata": {},
   "source": [
    "In this notebook, Data Science Tools and Ecosystem are summarized.\n",
    "\n"
   ]
  },
  {
   "cell_type": "markdown",
   "id": "461778f2-96e3-4de4-9816-f527af25bd99",
   "metadata": {},
   "source": [
    "**Objectives:**\n",
    "+ Open Source Tools for Data Science\n",
    "+ Commercial Tools for Data Science\n",
    "+ Cloud Based Tools for Data Science\n",
    "+ Languages of Data Science\n",
    "+ Libraries for Data Science\n",
    "\n"
   ]
  },
  {
   "cell_type": "markdown",
   "id": "a3e7459e-dd0b-4900-ae4c-a1c47a4b91df",
   "metadata": {},
   "source": [
    "Some of the popular languages that Data Scientists use are:\n",
    "1. Python\n",
    "2. R\n",
    "3. C\n",
    "4. Java"
   ]
  },
  {
   "cell_type": "markdown",
   "id": "36044411-02a1-40f4-948e-137a9d944564",
   "metadata": {},
   "source": [
    "Some of the commonly used libraries used by Data Scientists include:\n",
    "1. NumPy\n",
    "2. Pandas\n",
    "3. Matplotlib\n",
    "4. Keras"
   ]
  },
  {
   "cell_type": "markdown",
   "id": "2b55075a-4edc-4f8d-bef7-7acd9444c160",
   "metadata": {},
   "source": [
    "|Data Science Tools|\n",
    "|------------------|\n",
    "|MongoDB|\n",
    "|HUE|\n",
    "|MySQL|\n",
    "\n"
   ]
  },
  {
   "cell_type": "markdown",
   "id": "825728f2-db6a-4e8c-bc54-665e44615ee6",
   "metadata": {},
   "source": [
    "### Below are a few examples of evaluating arithmetic expressions in Python\n"
   ]
  },
  {
   "cell_type": "code",
   "execution_count": 7,
   "id": "c8811229-d1ed-4067-88d4-8dd86cdee79b",
   "metadata": {},
   "outputs": [
    {
     "data": {
      "text/plain": [
       "17"
      ]
     },
     "execution_count": 7,
     "metadata": {},
     "output_type": "execute_result"
    }
   ],
   "source": [
    "# This a simple arithmetic expression to mutiply then add integers \n",
    "(3*4)+5"
   ]
  },
  {
   "cell_type": "code",
   "execution_count": 8,
   "id": "954189c0-d4a5-45c7-bace-927a566c86ea",
   "metadata": {},
   "outputs": [
    {
     "data": {
      "text/plain": [
       "3.3333333333333335"
      ]
     },
     "execution_count": 8,
     "metadata": {},
     "output_type": "execute_result"
    }
   ],
   "source": [
    "# This will convert 200 minutes to hours by diving by 60\n",
    "200/60"
   ]
  },
  {
   "cell_type": "markdown",
   "id": "0ae95b1a-7a4c-4264-a32c-c73ef1e0f44b",
   "metadata": {},
   "source": [
    "## Author\n",
    "Mayantha Weerawardhana\n"
   ]
  },
  {
   "cell_type": "code",
   "execution_count": null,
   "id": "707c6429-fb6e-409d-bdac-430b94d37933",
   "metadata": {},
   "outputs": [],
   "source": []
  }
 ],
 "metadata": {
  "kernelspec": {
   "display_name": "Python 3 (ipykernel)",
   "language": "python",
   "name": "python3"
  },
  "language_info": {
   "codemirror_mode": {
    "name": "ipython",
    "version": 3
   },
   "file_extension": ".py",
   "mimetype": "text/x-python",
   "name": "python",
   "nbconvert_exporter": "python",
   "pygments_lexer": "ipython3",
   "version": "3.12.8"
  }
 },
 "nbformat": 4,
 "nbformat_minor": 5
}
